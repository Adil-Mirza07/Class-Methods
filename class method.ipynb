{
 "cells": [
  {
   "cell_type": "code",
   "execution_count": 2,
   "id": "641ecd5f-4b86-4c6e-9d51-e40cf73c94ac",
   "metadata": {},
   "outputs": [],
   "source": [
    "class pwskills:\n",
    "    def __init__(self, name , email):\n",
    "        \n",
    "        self.name = name\n",
    "        self.email = email\n",
    "        \n",
    "    def student_details(self):\n",
    "        print(self.name , self.email)"
   ]
  },
  {
   "cell_type": "code",
   "execution_count": 3,
   "id": "765d8aab-30c5-4eae-937c-ec32fa9329bc",
   "metadata": {},
   "outputs": [],
   "source": [
    "pw = pwskills(\"mirza\", \"mirza@gmail.com\")"
   ]
  },
  {
   "cell_type": "code",
   "execution_count": 4,
   "id": "bfd1a488-7c6c-4986-ae5b-7454dd20554f",
   "metadata": {},
   "outputs": [
    {
     "data": {
      "text/plain": [
       "'mirza'"
      ]
     },
     "execution_count": 4,
     "metadata": {},
     "output_type": "execute_result"
    }
   ],
   "source": [
    "pw.name"
   ]
  },
  {
   "cell_type": "code",
   "execution_count": 5,
   "id": "1a29ebc3-2d4a-40c2-99cc-28c8a2919318",
   "metadata": {},
   "outputs": [
    {
     "data": {
      "text/plain": [
       "'mirza@gmail.com'"
      ]
     },
     "execution_count": 5,
     "metadata": {},
     "output_type": "execute_result"
    }
   ],
   "source": [
    "pw.email"
   ]
  },
  {
   "cell_type": "code",
   "execution_count": 6,
   "id": "8282f88a-b0ed-4bd7-a3ba-c2da247f8c69",
   "metadata": {},
   "outputs": [
    {
     "name": "stdout",
     "output_type": "stream",
     "text": [
      "mirza mirza@gmail.com\n"
     ]
    }
   ],
   "source": [
    "pw.student_details()"
   ]
  },
  {
   "cell_type": "code",
   "execution_count": 17,
   "id": "3c4ea778-6ca8-4502-904a-791ce9282206",
   "metadata": {},
   "outputs": [],
   "source": [
    "class pwskills1:\n",
    "    def __init__(self, name , email):\n",
    "        \n",
    "        self.name = name\n",
    "        self.email = email\n",
    "    @classmethod\n",
    "    def details(cls , name1 , email1):\n",
    "        return cls(name1 , email1)\n",
    "    \n",
    "    def student_details(self):\n",
    "        print(self.name , self.email)"
   ]
  },
  {
   "cell_type": "code",
   "execution_count": 18,
   "id": "e101e5b5-e454-4497-887d-bc35dd231f11",
   "metadata": {},
   "outputs": [],
   "source": [
    "pw1 = pwskills1.details(\"mohan\" , \"mohan@gamil.com\")"
   ]
  },
  {
   "cell_type": "code",
   "execution_count": 19,
   "id": "aabc7161-a8af-4f33-911a-9cd57359350a",
   "metadata": {},
   "outputs": [
    {
     "data": {
      "text/plain": [
       "'mohan'"
      ]
     },
     "execution_count": 19,
     "metadata": {},
     "output_type": "execute_result"
    }
   ],
   "source": [
    "pw1.name"
   ]
  },
  {
   "cell_type": "code",
   "execution_count": 20,
   "id": "a2016931-1623-4291-9a0a-e359beeeb786",
   "metadata": {},
   "outputs": [
    {
     "data": {
      "text/plain": [
       "'mohan@gamil.com'"
      ]
     },
     "execution_count": 20,
     "metadata": {},
     "output_type": "execute_result"
    }
   ],
   "source": [
    "pw1.email"
   ]
  },
  {
   "cell_type": "code",
   "execution_count": 21,
   "id": "35f331b9-2c24-4c82-988c-db82efad3af3",
   "metadata": {},
   "outputs": [
    {
     "name": "stdout",
     "output_type": "stream",
     "text": [
      "mohan mohan@gamil.com\n"
     ]
    }
   ],
   "source": [
    "pw1.student_details()"
   ]
  },
  {
   "cell_type": "code",
   "execution_count": 25,
   "id": "3820f13e-32d6-4f11-a9f9-2c8ab1cc19dc",
   "metadata": {},
   "outputs": [],
   "source": [
    "class pwskills2:\n",
    "    \n",
    "    mobile_number = 8876453898\n",
    "    \n",
    "    def __init__(self, name , email):\n",
    "        \n",
    "        self.name = name\n",
    "        self.email = email\n",
    "    @classmethod\n",
    "    def details(cls , name1 , email1):\n",
    "        return cls(name1 , email1)\n",
    "    \n",
    "    def student_details(self):\n",
    "        print(self.name , self.email,pwskills2.mobile_number)"
   ]
  },
  {
   "cell_type": "code",
   "execution_count": 24,
   "id": "27c3db7d-443c-4521-b086-1b92533af15f",
   "metadata": {},
   "outputs": [
    {
     "data": {
      "text/plain": [
       "8876453898"
      ]
     },
     "execution_count": 24,
     "metadata": {},
     "output_type": "execute_result"
    }
   ],
   "source": [
    "pwskills2.mobile_number"
   ]
  },
  {
   "cell_type": "code",
   "execution_count": 27,
   "id": "1d612a76-880e-4ef5-b3e1-fe75c1044d0f",
   "metadata": {},
   "outputs": [],
   "source": [
    "pw2 = pwskills2.details(\"sohan\", \"sohan@gmail.com\")"
   ]
  },
  {
   "cell_type": "code",
   "execution_count": 28,
   "id": "21d2ba68-979d-4f9a-8b92-6ef25a8ac579",
   "metadata": {},
   "outputs": [
    {
     "name": "stdout",
     "output_type": "stream",
     "text": [
      "sohan sohan@gmail.com 8876453898\n"
     ]
    }
   ],
   "source": [
    "pw2.student_details()"
   ]
  },
  {
   "cell_type": "code",
   "execution_count": 29,
   "id": "92e8cc62-8bc4-4059-b02a-dc596b6dd029",
   "metadata": {},
   "outputs": [],
   "source": [
    "pw2_obj = pwskills2(\"rohan\" , \"rohan@gmail.com\")"
   ]
  },
  {
   "cell_type": "code",
   "execution_count": 31,
   "id": "acedbd49-2151-4c3a-88db-3659fa6cdea9",
   "metadata": {},
   "outputs": [
    {
     "name": "stdout",
     "output_type": "stream",
     "text": [
      "rohan rohan@gmail.com 8876453898\n"
     ]
    }
   ],
   "source": [
    "pw2_obj.student_details()"
   ]
  },
  {
   "cell_type": "code",
   "execution_count": 32,
   "id": "f7cb0082-c88c-4777-91c7-cdc998218cc8",
   "metadata": {},
   "outputs": [],
   "source": [
    "class pwskills2:\n",
    "    \n",
    "    mobile_number = 8876453898\n",
    "    \n",
    "    def __init__(self, name , email):\n",
    "        \n",
    "        self.name = name\n",
    "        self.email = email\n",
    "        \n",
    "    @classmethod\n",
    "    def change_number(cls, mobile):\n",
    "        pwskills2.mobile_number = mobile\n",
    "        \n",
    "    @classmethod\n",
    "    def details(cls , name1 , email1):\n",
    "        return cls(name1 , email1)\n",
    "    \n",
    "    def student_details(self):\n",
    "        print(self.name , self.email,pwskills2.mobile_number)"
   ]
  },
  {
   "cell_type": "code",
   "execution_count": 33,
   "id": "676f856e-0318-4936-babd-6073e1bdd739",
   "metadata": {},
   "outputs": [
    {
     "data": {
      "text/plain": [
       "8876453898"
      ]
     },
     "execution_count": 33,
     "metadata": {},
     "output_type": "execute_result"
    }
   ],
   "source": [
    "pwskills2.mobile_number"
   ]
  },
  {
   "cell_type": "code",
   "execution_count": 34,
   "id": "7fe59939-8da9-497a-82ae-2da31b4710ec",
   "metadata": {},
   "outputs": [],
   "source": [
    "pwskills2.change_number(9254856568)"
   ]
  },
  {
   "cell_type": "code",
   "execution_count": 35,
   "id": "14d818fb-1812-48e6-a7cc-2bce0cff6715",
   "metadata": {},
   "outputs": [
    {
     "data": {
      "text/plain": [
       "9254856568"
      ]
     },
     "execution_count": 35,
     "metadata": {},
     "output_type": "execute_result"
    }
   ],
   "source": [
    "pwskills2.mobile_number"
   ]
  },
  {
   "cell_type": "code",
   "execution_count": 36,
   "id": "a0c63878-0222-4992-89bd-2b9b8b600d25",
   "metadata": {},
   "outputs": [],
   "source": [
    "pw2_obj = pwskills2(\"sohil\" , \"sohil@gmail.com\")"
   ]
  },
  {
   "cell_type": "code",
   "execution_count": 37,
   "id": "fa8b3a72-02ca-405e-8009-ba5e9c476293",
   "metadata": {},
   "outputs": [
    {
     "data": {
      "text/plain": [
       "<__main__.pwskills2 at 0x7fd4c452e2f0>"
      ]
     },
     "execution_count": 37,
     "metadata": {},
     "output_type": "execute_result"
    }
   ],
   "source": [
    "pw2_obj.details(\"mirza\" , \"mirza@gmail.com\")"
   ]
  },
  {
   "cell_type": "code",
   "execution_count": 38,
   "id": "16bad0f2-29ab-49f3-aed7-904827c8cd47",
   "metadata": {},
   "outputs": [
    {
     "data": {
      "text/plain": [
       "'sohil'"
      ]
     },
     "execution_count": 38,
     "metadata": {},
     "output_type": "execute_result"
    }
   ],
   "source": [
    "pw2_obj.name"
   ]
  },
  {
   "cell_type": "code",
   "execution_count": 39,
   "id": "97301938-cbc9-45c5-ac8f-b68106253109",
   "metadata": {},
   "outputs": [],
   "source": [
    "class pwskills3:\n",
    "    \n",
    "    mobile_number = 8876453898\n",
    "    \n",
    "    def __init__(self, name , email):\n",
    "        \n",
    "        self.name = name\n",
    "        self.email = email\n",
    "        \n",
    "    @classmethod\n",
    "    def change_number(cls, mobile):\n",
    "        pwskills2.mobile_number = mobile\n",
    "        \n",
    "    @classmethod\n",
    "    def details(cls , name1 , email1):\n",
    "        return cls(name1 , email1)\n",
    "    \n",
    "    def student_details(self):\n",
    "        print(self.name , self.email,pwskills2.mobile_number)"
   ]
  },
  {
   "cell_type": "code",
   "execution_count": 40,
   "id": "4d1ca1d4-d88c-4c9e-8211-a2ad0d19d966",
   "metadata": {},
   "outputs": [],
   "source": [
    "def course_details(cls ,course_name ):\n",
    "    print(\"course details\" , course_name)"
   ]
  },
  {
   "cell_type": "code",
   "execution_count": 41,
   "id": "97dbd5a3-0ea4-4200-aa2a-33b157c4cf8f",
   "metadata": {},
   "outputs": [],
   "source": [
    "pwskills3.course_details = classmethod(course_details)"
   ]
  },
  {
   "cell_type": "code",
   "execution_count": 42,
   "id": "7979aa15-6e96-4116-bd4c-b22264726a10",
   "metadata": {},
   "outputs": [
    {
     "name": "stdout",
     "output_type": "stream",
     "text": [
      "course details data science masters\n"
     ]
    }
   ],
   "source": [
    "pwskills3.course_details(\"data science masters\")"
   ]
  },
  {
   "cell_type": "code",
   "execution_count": 43,
   "id": "05b66da5-7db8-42bf-97fe-c778caab9f46",
   "metadata": {},
   "outputs": [],
   "source": [
    "pw3 = pwskills3(\"mirza\", \"mirza@gmail.com\")"
   ]
  },
  {
   "cell_type": "code",
   "execution_count": 44,
   "id": "a3889e60-7d25-4b92-a5a5-d9a1b2d7dda7",
   "metadata": {},
   "outputs": [
    {
     "name": "stdout",
     "output_type": "stream",
     "text": [
      "course details web dev\n"
     ]
    }
   ],
   "source": [
    "pw3.course_details(\"web dev\")"
   ]
  },
  {
   "cell_type": "code",
   "execution_count": 45,
   "id": "1898ade4-1c1e-4772-9203-5b90d51dc663",
   "metadata": {},
   "outputs": [],
   "source": [
    "class pwskills4:\n",
    "    \n",
    "    mobile_number = 8876453898\n",
    "    \n",
    "    def __init__(self, name , email):\n",
    "        \n",
    "        self.name = name\n",
    "        self.email = email\n",
    "        \n",
    "    @classmethod\n",
    "    def change_number(cls, mobile):\n",
    "        pwskills2.mobile_number = mobile\n",
    "        \n",
    "    @classmethod\n",
    "    def details(cls , name1 , email1):\n",
    "        return cls(name1 , email1)\n",
    "    \n",
    "    def student_details(self):\n",
    "        print(self.name , self.email,pwskills2.mobile_number)"
   ]
  },
  {
   "cell_type": "code",
   "execution_count": 46,
   "id": "d8369d9f-f8ff-4e87-992a-e450d22bfbf9",
   "metadata": {},
   "outputs": [],
   "source": [
    "del pwskills4.change_number"
   ]
  },
  {
   "cell_type": "code",
   "execution_count": 47,
   "id": "1bd1c80d-3b9e-4516-b4ca-3cf22ef88f37",
   "metadata": {},
   "outputs": [
    {
     "ename": "AttributeError",
     "evalue": "type object 'pwskills4' has no attribute 'change_number'",
     "output_type": "error",
     "traceback": [
      "\u001b[0;31m---------------------------------------------------------------------------\u001b[0m",
      "\u001b[0;31mAttributeError\u001b[0m                            Traceback (most recent call last)",
      "Cell \u001b[0;32mIn[47], line 1\u001b[0m\n\u001b[0;32m----> 1\u001b[0m \u001b[43mpwskills4\u001b[49m\u001b[38;5;241;43m.\u001b[39;49m\u001b[43mchange_number\u001b[49m(\u001b[38;5;241m2345345345\u001b[39m)\n",
      "\u001b[0;31mAttributeError\u001b[0m: type object 'pwskills4' has no attribute 'change_number'"
     ]
    }
   ],
   "source": [
    "pwskills4.change_number(2345345345)"
   ]
  },
  {
   "cell_type": "code",
   "execution_count": 48,
   "id": "2e767489-6e64-4b3d-ba2a-9a3b4180e0c2",
   "metadata": {},
   "outputs": [],
   "source": [
    "delattr(pwskills4 , \"details\")"
   ]
  },
  {
   "cell_type": "code",
   "execution_count": 49,
   "id": "dbf77f98-57c8-47c3-933c-93747d71e664",
   "metadata": {},
   "outputs": [],
   "source": [
    "delattr(pwskills4 , \"mobile_number\")"
   ]
  },
  {
   "cell_type": "code",
   "execution_count": 51,
   "id": "c9de6cc5-7f62-4f68-9f53-a4cba021380a",
   "metadata": {},
   "outputs": [],
   "source": [
    "delattr(pwskills4,\"student_details\")"
   ]
  },
  {
   "cell_type": "code",
   "execution_count": 52,
   "id": "b75b7928-5785-4495-a4b1-09d43c6c8e90",
   "metadata": {},
   "outputs": [
    {
     "data": {
      "text/plain": [
       "__main__.pwskills4"
      ]
     },
     "execution_count": 52,
     "metadata": {},
     "output_type": "execute_result"
    }
   ],
   "source": [
    "pwskills4"
   ]
  },
  {
   "cell_type": "code",
   "execution_count": null,
   "id": "8a462c68-69b8-48cf-988a-dec73c7f1ffe",
   "metadata": {},
   "outputs": [],
   "source": []
  }
 ],
 "metadata": {
  "kernelspec": {
   "display_name": "Python 3 (ipykernel)",
   "language": "python",
   "name": "python3"
  },
  "language_info": {
   "codemirror_mode": {
    "name": "ipython",
    "version": 3
   },
   "file_extension": ".py",
   "mimetype": "text/x-python",
   "name": "python",
   "nbconvert_exporter": "python",
   "pygments_lexer": "ipython3",
   "version": "3.10.8"
  }
 },
 "nbformat": 4,
 "nbformat_minor": 5
}
